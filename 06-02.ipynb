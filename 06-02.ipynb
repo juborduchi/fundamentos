{
  "nbformat": 4,
  "nbformat_minor": 0,
  "metadata": {
    "colab": {
      "provenance": [],
      "authorship_tag": "ABX9TyNz+9I4nvPsQSbNdAtRjvFL",
      "include_colab_link": true
    },
    "kernelspec": {
      "name": "python3",
      "display_name": "Python 3"
    },
    "language_info": {
      "name": "python"
    }
  },
  "cells": [
    {
      "cell_type": "markdown",
      "metadata": {
        "id": "view-in-github",
        "colab_type": "text"
      },
      "source": [
        "<a href=\"https://colab.research.google.com/github/juborduchi/fundamentos/blob/main/06-02.ipynb\" target=\"_parent\"><img src=\"https://colab.research.google.com/assets/colab-badge.svg\" alt=\"Open In Colab\"/></a>"
      ]
    },
    {
      "cell_type": "markdown",
      "source": [
        "## Funções Built-in\n",
        "\n",
        "São blocos/linhas de códigos fornecidos pelo python\n",
        "\n",
        "`print()`, `type ()`, `dir()`,`len()`, `input()`"
      ],
      "metadata": {
        "id": "-MIAz_pBrdCj"
      }
    },
    {
      "cell_type": "code",
      "execution_count": 25,
      "metadata": {
        "id": "yrAzIsxwvBDp",
        "colab": {
          "base_uri": "https://localhost:8080/"
        },
        "outputId": "807a9173-65ef-4896-e0c3-3ee63fa94721"
      },
      "outputs": [
        {
          "output_type": "stream",
          "name": "stdout",
          "text": [
            "ola mundo\n",
            "<class 'str'>\n",
            "<class 'list'>\n",
            "9\n",
            "['__add__', '__class__', '__contains__', '__delattr__', '__dir__', '__doc__', '__eq__', '__format__', '__ge__', '__getattribute__', '__getitem__', '__getnewargs__', '__gt__', '__hash__', '__init__', '__init_subclass__', '__iter__', '__le__', '__len__', '__lt__', '__mod__', '__mul__', '__ne__', '__new__', '__reduce__', '__reduce_ex__', '__repr__', '__rmod__', '__rmul__', '__setattr__', '__sizeof__', '__str__', '__subclasshook__', 'capitalize', 'casefold', 'center', 'count', 'encode', 'endswith', 'expandtabs', 'find', 'format', 'format_map', 'index', 'isalnum', 'isalpha', 'isascii', 'isdecimal', 'isdigit', 'isidentifier', 'islower', 'isnumeric', 'isprintable', 'isspace', 'istitle', 'isupper', 'join', 'ljust', 'lower', 'lstrip', 'maketrans', 'partition', 'removeprefix', 'removesuffix', 'replace', 'rfind', 'rindex', 'rjust', 'rpartition', 'rsplit', 'rstrip', 'split', 'splitlines', 'startswith', 'strip', 'swapcase', 'title', 'translate', 'upper', 'zfill']\n",
            "Ola Mundo\n",
            "OLA MUNDO\n",
            "2\n"
          ]
        }
      ],
      "source": [
        "#print(), type(), input()\n",
        "print (\"ola mundo\")\n",
        "print (type(\"ola mundo\"))\n",
        "print (type([100, 'juliana']))\n",
        "\n",
        "palavra = \"ola mundo\"\n",
        "print(len(palavra))\n",
        "print(dir(palavra))\n",
        "print(palavra.title())\n",
        "print(palavra.upper())\n",
        "\n",
        "palavra2 = [\"ola\", \"ola\"]\n",
        "print(len(palavra2))\n",
        "\n"
      ]
    },
    {
      "cell_type": "markdown",
      "source": [],
      "metadata": {
        "id": "xip7dDyFrbS5"
      }
    },
    {
      "cell_type": "code",
      "source": [
        "nome = input('qual é o seu nome:')\n",
        "print(f\"Bem vindo {nome}\")"
      ],
      "metadata": {
        "colab": {
          "base_uri": "https://localhost:8080/"
        },
        "id": "gtx1vMyEu3Ip",
        "outputId": "09a27675-20ab-4c98-9063-c936a130dddb"
      },
      "execution_count": 24,
      "outputs": [
        {
          "output_type": "stream",
          "name": "stdout",
          "text": [
            "qual é o seu nome:fdh\n",
            "Bem vindo fdh\n"
          ]
        }
      ]
    },
    {
      "cell_type": "markdown",
      "source": [
        "## zen do python"
      ],
      "metadata": {
        "id": "z5AW-56zwFOl"
      }
    },
    {
      "cell_type": "code",
      "source": [
        "# Zen do Python\n",
        "import this"
      ],
      "metadata": {
        "colab": {
          "base_uri": "https://localhost:8080/"
        },
        "id": "YFTYZCkAvxsa",
        "outputId": "3debfbf7-b1bf-4b93-dded-78a6a87b5b24"
      },
      "execution_count": 13,
      "outputs": [
        {
          "output_type": "stream",
          "name": "stdout",
          "text": [
            "The Zen of Python, by Tim Peters\n",
            "\n",
            "Beautiful is better than ugly.\n",
            "Explicit is better than implicit.\n",
            "Simple is better than complex.\n",
            "Complex is better than complicated.\n",
            "Flat is better than nested.\n",
            "Sparse is better than dense.\n",
            "Readability counts.\n",
            "Special cases aren't special enough to break the rules.\n",
            "Although practicality beats purity.\n",
            "Errors should never pass silently.\n",
            "Unless explicitly silenced.\n",
            "In the face of ambiguity, refuse the temptation to guess.\n",
            "There should be one-- and preferably only one --obvious way to do it.\n",
            "Although that way may not be obvious at first unless you're Dutch.\n",
            "Now is better than never.\n",
            "Although never is often better than *right* now.\n",
            "If the implementation is hard to explain, it's a bad idea.\n",
            "If the implementation is easy to explain, it may be a good idea.\n",
            "Namespaces are one honking great idea -- let's do more of those!\n"
          ]
        }
      ]
    },
    {
      "cell_type": "markdown",
      "source": [
        "# Criando suas próprias funções"
      ],
      "metadata": {
        "id": "x0XRVUAOwKAJ"
      }
    },
    {
      "cell_type": "code",
      "source": [
        "def primeira_função(num1, num2):\n",
        "  print(\"minha primeira função\")\n",
        "  somar = num1 + num2\n",
        "  print(somar)\n",
        "  return somar\n",
        "\n",
        "  primeira_função(1,10)\n",
        "\n",
        "  somar2 = primeira_função(2, 4) + 2\n",
        "  print(somar2)\n"
      ],
      "metadata": {
        "id": "Xdl_fTlLwP6-"
      },
      "execution_count": 37,
      "outputs": []
    }
  ]
}